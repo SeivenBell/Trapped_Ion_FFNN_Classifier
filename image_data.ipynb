{
 "cells": [
  {
   "cell_type": "code",
   "execution_count": 2,
   "id": "b0fc7938",
   "metadata": {},
   "outputs": [],
   "source": [
    "import h5py\n",
    "import numpy as np\n",
    "import matplotlib.pyplot as plt\n",
    "import tqdm"
   ]
  },
  {
   "cell_type": "markdown",
   "id": "26e8137d",
   "metadata": {},
   "source": [
    "All the data are images with four ions (qubits).\n",
    "\n",
    "- **Bright**: All ions are prepared in the $\\left | 1111 \\right >$ state.\n",
    "- **Dark**: All ions are prepared in the $\\left | 0000 \\right >$ state.\n",
    "- **Halfpi**: All ions are prepared in the superposition of all possible states. This means that each ion has an equal probability of being in any of the states $\\left | 0000 \\right >$, $\\left | 0001 \\right >$, $\\left | 0010 \\right >$, $\\left | 0011 \\right >$, ..., $\\left | 1111 \\right >$.\n",
    "\n",
    "**Questions:**\n",
    "\n",
    "1. Can we train an autoencoder to extract information from the images, given that there are only four ions in each image? Would we only need four or more latent variables for this task?\n",
    "2. Is it possible to train a classifier using the labeled data from the `Bright` and `Dark` datasets, while leveraging the fact that the states of the ions in the `Halfpi` dataset are independent?\n",
    "\n",
    "\n",
    "For the second research question, we propose a solution that involves defining an error function that combines the classification error and correlation error. Specifically, we define the error function as:\n",
    "\n",
    "```\n",
    "error = classification_error + correlation_error\n",
    "```\n",
    "\n",
    "When we do the training, we can get the gradient of `classification_error` with `Bright` and `Dark` datasets as these data are labeled. \n",
    "\n",
    "As for the `correlation_error`, we can calculate it with the correlation function, and evaluate it with a batch of data sampled form `Halfpi`. \n",
    "We can define the correlation error as:\n",
    "```python\n",
    "correlation_error = correlation_coefficient ** 2 # or absolute value\n",
    "```\n",
    "\n",
    "We can obtain the gradient of the classification_error using the labeled data from the `Bright` and `Dark` datasets. For the `correlation_error`, we can calculate it using the correlation function, which we define as the  correlation coefficient between the states of the different ions. \n",
    "We can define the `correlation_error` as the squared correlation coefficient (or the absolute value of it).\n",
    "With that, we can then evaluate the correlation coefficient and its gradient using a batch of data sampled from the `Halfpi` dataset. We can talk more details in the meeting.\n",
    "\n",
    "The correlation function we used in physics is spin-spin correlation, but I think it is equvalent to optimizing with [`Pearson correlation coefficient`](https://en.wikipedia.org/wiki/Pearson_correlation_coefficient) here."
   ]
  },
  {
   "cell_type": "code",
   "execution_count": 5,
   "id": "e121f15d",
   "metadata": {},
   "outputs": [
    {
     "name": "stderr",
     "output_type": "stream",
     "text": [
      "100%|██████████| 10000/10000 [00:11<00:00, 861.24it/s]\n"
     ]
    }
   ],
   "source": [
    "bright = [] # all bright state data\n",
    "dark = [] # all dark state data\n",
    "halfpi = [] # all possible states\n",
    "with h5py.File(\"img.h5\", \"r\") as f:\n",
    "    for i in tqdm.tqdm(range(10000)):\n",
    "        bright.append(np.array(f[\"bright_{}\".format(i)]))\n",
    "        dark.append(np.array(f[\"dark_{}\".format(i)]))\n",
    "        halfpi.append(np.array(f[\"halfpi_{}\".format(i)]))"
   ]
  },
  {
   "cell_type": "code",
   "execution_count": 8,
   "id": "b34e8a49",
   "metadata": {},
   "outputs": [
    {
     "data": {
      "image/png": "[encoded data removed]",
      "text/plain": [
       "<Figure size 640x480 with 2 Axes>"
      ]
     },
     "metadata": {},
     "output_type": "display_data"
    }
   ],
   "source": [
    "plt.imshow(np.mean(bright, axis=0) - np.mean(dark, axis=0))\n",
    "plt.colorbar()\n",
    "plt.show()"
   ]
  },
  {
   "cell_type": "code",
   "execution_count": null,
   "id": "76ec41e2",
   "metadata": {},
   "outputs": [],
   "source": []
  }
 ],
 "metadata": {
  "kernelspec": {
   "display_name": "Python 3 (ipykernel)",
   "language": "python",
   "name": "python3"
  },
  "language_info": {
   "codemirror_mode": {
    "name": "ipython",
    "version": 3
   },
   "file_extension": ".py",
   "mimetype": "text/x-python",
   "name": "python",
   "nbconvert_exporter": "python",
   "pygments_lexer": "ipython3",
   "version": "3.9.5"
  }
 },
 "nbformat": 4,
 "nbformat_minor": 5
}
