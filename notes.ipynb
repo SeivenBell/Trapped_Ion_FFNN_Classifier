{
 "cells": [
  {
   "cell_type": "markdown",
   "metadata": {},
   "source": [
    "## Process of MSE implementing \n",
    "\n",
    "our currect distribution sample: \n",
    "\n",
    "ic| normalized_counts: [0.057,\n",
    "                        0.068,\n",
    "                        0.051,\n",
    "                        0.072,\n",
    "                        0.071,\n",
    "                        0.095,\n",
    "                        0.043,\n",
    "                        0.08,\n",
    "                        0.049,\n",
    "                        0.062,\n",
    "                        0.066,\n",
    "                        0.061,\n",
    "                        0.07,\n",
    "                        0.059,\n",
    "                        0.053,\n",
    "                        0.043]\n",
    "\n",
    "uniform_count: 0.0625"
   ]
  },
  {
   "cell_type": "markdown",
   "metadata": {},
   "source": [
    "Loss function design problem. \n",
    "\n",
    "Background:\n",
    "    We need to include unlabelled data into our model to maximize accuracy of predicting 16 classes of our system. To acheive this goal we pretrained simple Encoder-Decoder model on our labelled data (91-92% accuracy). Now, our job is set up a programm which will use pretrain network for inicial classificationo with following LOSS which will adjust NEW model to classify unlabelled data more accuratly. \n",
    "\n",
    "    So far we tried multible different ways to make it work. MSE loss, CrossEntropy, addition of gumble softmax function, and finally Correlation loss with multible modification and changes. \n",
    "\n",
    "Loss isn't working in any of the cases. Originally I suffered from discritness of Counter function needed for MSE. Gumble sofmax with correlation loss fixed the problem with discritness and stop function, but loss didn't allowed the network to learn all the states, we arrived to binary scenario, where we either learn that all states are 0000 or 1111. \n",
    "\n",
    "Problem statement:\n",
    "\n",
    "Basically, we have \"samples\" as an input from our  pre-saved model classification. we need to pass these predictions to the loss function. Or objective is to count these predictions for 1000 samples and use comparison of given distribution to uniform that we need. \n",
    "\n",
    "Input:\n",
    "\n"
   ]
  },
  {
   "cell_type": "markdown",
   "metadata": {},
   "source": []
  },
  {
   "cell_type": "markdown",
   "metadata": {},
   "source": []
  }
 ],
 "metadata": {
  "kernelspec": {
   "display_name": "syde_522",
   "language": "python",
   "name": "python3"
  },
  "language_info": {
   "name": "python",
   "version": "3.9.18"
  }
 },
 "nbformat": 4,
 "nbformat_minor": 2
}
